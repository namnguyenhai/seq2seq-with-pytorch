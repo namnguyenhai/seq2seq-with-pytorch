{
  "nbformat": 4,
  "nbformat_minor": 0,
  "metadata": {
    "colab": {
      "name": "Seq2Seq.ipynb",
      "provenance": []
    },
    "kernelspec": {
      "name": "python3",
      "display_name": "Python 3"
    },
    "language_info": {
      "name": "python"
    },
    "accelerator": "GPU"
  },
  "cells": [
    {
      "cell_type": "code",
      "metadata": {
        "id": "Gu5fL0jSdI06"
      },
      "source": [
        "import torch\n",
        "from torchtext.legacy.data import Field, BucketIterator\n",
        "import spacy\n",
        "import torch.nn as nn\n",
        "from torchtext.legacy.datasets import Multi30k"
      ],
      "execution_count": null,
      "outputs": []
    },
    {
      "cell_type": "code",
      "metadata": {
        "id": "2UdRLS8QjGy1"
      },
      "source": [
        "import random"
      ],
      "execution_count": null,
      "outputs": []
    },
    {
      "cell_type": "code",
      "metadata": {
        "id": "HqHyoO70d6SN"
      },
      "source": [
        "device = torch.device('cuda' if torch.cuda.is_available() else 'cpu')"
      ],
      "execution_count": null,
      "outputs": []
    },
    {
      "cell_type": "code",
      "metadata": {
        "id": "_QQld4pdeGnY"
      },
      "source": [
        "spacy_en = spacy.load(\"en_core_web_sm\")\n",
        "spacy_ger = spacy.load(\"de_core_news_sm\")"
      ],
      "execution_count": null,
      "outputs": []
    },
    {
      "cell_type": "code",
      "metadata": {
        "colab": {
          "base_uri": "https://localhost:8080/"
        },
        "id": "-Ad5cGkoeMjG",
        "outputId": "48785dde-b8f5-4025-d825-728c236a1a82"
      },
      "source": [
        "def en_token(text):\n",
        "    return [token.text for token in spacy_en.tokenizer(text)]\n",
        "def ger_token(text):\n",
        "    return [token.text for token in spacy_ger.tokenizer(text)]\n",
        "eng_field = Field(tokenize=en_token,lower=True, init_token=\"<sos>\",eos_token=\"<eos>\")\n",
        "ger_field = Field(tokenize=ger_token,lower=True, init_token=\"<sos>\",eos_token=\"<eos>\")\n",
        "train,val,test = Multi30k.splits(exts=(\".de\",\".en\"),fields=(ger_field,eng_field))\n",
        "eng_field.build_vocab(train,max_size=10000,min_freq=2)\n",
        "ger_field.build_vocab(train,max_size=10000,min_freq=2)"
      ],
      "execution_count": null,
      "outputs": [
        {
          "output_type": "stream",
          "name": "stdout",
          "text": [
            "downloading training.tar.gz\n"
          ]
        },
        {
          "output_type": "stream",
          "name": "stderr",
          "text": [
            "training.tar.gz: 100%|██████████| 1.21M/1.21M [00:01<00:00, 1.10MB/s]\n"
          ]
        },
        {
          "output_type": "stream",
          "name": "stdout",
          "text": [
            "downloading validation.tar.gz\n"
          ]
        },
        {
          "output_type": "stream",
          "name": "stderr",
          "text": [
            "validation.tar.gz: 100%|██████████| 46.3k/46.3k [00:00<00:00, 229kB/s]\n"
          ]
        },
        {
          "output_type": "stream",
          "name": "stdout",
          "text": [
            "downloading mmt_task1_test2016.tar.gz\n"
          ]
        },
        {
          "output_type": "stream",
          "name": "stderr",
          "text": [
            "mmt_task1_test2016.tar.gz: 100%|██████████| 66.2k/66.2k [00:00<00:00, 225kB/s]\n"
          ]
        }
      ]
    },
    {
      "cell_type": "code",
      "metadata": {
        "id": "BgFEaftffrjK"
      },
      "source": [
        "BATCH_SIZE =32 \n",
        "train_iter, val_iter, test_iter = BucketIterator.splits(\n",
        "        (train,val,test),\n",
        "        batch_size=BATCH_SIZE,\n",
        "        device=device\n",
        ")"
      ],
      "execution_count": null,
      "outputs": []
    },
    {
      "cell_type": "code",
      "metadata": {
        "id": "q6fMZ9EnfyUm"
      },
      "source": [
        "class Encoder(nn.Module):\n",
        "    def __init__(self, input_vocab, embedding_size, hidden_size, num_layer, dropout):\n",
        "        super(Encoder,self).__init__()\n",
        "        self.dropout = nn.Dropout(dropout)\n",
        "        self.embedding = nn.Embedding(input_vocab,embedding_size)\n",
        "        self.rnn = nn.LSTM(embedding_size,hidden_size,num_layer,dropout=dropout)\n",
        "    def forward(self,x):\n",
        "        embedding = self.dropout(self.embedding(x))\n",
        "        output, (hidden, cell) = self.rnn(embedding)\n",
        "        return hidden,cell"
      ],
      "execution_count": null,
      "outputs": []
    },
    {
      "cell_type": "code",
      "metadata": {
        "id": "zhhCX62Yf3fW"
      },
      "source": [
        "class Decoder(nn.Module):\n",
        "    def __init__(self, input_size,embedding_size,hidden_size,numlayer,ouput_size,dropout):\n",
        "        super(Decoder,self).__init__()\n",
        "        self.dropout = nn.Dropout(dropout)\n",
        "        self.embedding = nn.Embedding(input_size,embedding_size)\n",
        "        self.rnn = nn.LSTM(embedding_size,hidden_size,numlayer,dropout=dropout)\n",
        "        self.fc = nn.Linear(hidden_size,ouput_size)\n",
        "    def forward(self,x, hidden,cell):\n",
        "        x = x.unsqueeze(0)\n",
        "        embedding = self.dropout(self.embedding(x))\n",
        "        output, (hidden,cell) = self.rnn(embedding,(hidden,cell))\n",
        "        predicts = self.fc(output)\n",
        "        predicts = predicts.squeeze(0)\n",
        "\n",
        "        return predicts, hidden, cell\n",
        "        "
      ],
      "execution_count": null,
      "outputs": []
    },
    {
      "cell_type": "code",
      "metadata": {
        "id": "7FkQmYcYf6BI"
      },
      "source": [
        "class Seq2seq(nn.Module):\n",
        "    def __init__(self,encoder,decoder):\n",
        "        super(Seq2seq,self).__init__()\n",
        "        self.encoder = encoder\n",
        "        self.decoder = decoder\n",
        "    def forward(self,data, target, teacher_forcing_ratio = 0.5):\n",
        "        batch_size = data.shape[1]\n",
        "        len_vocab = len(eng_field.vocab)\n",
        "        len_target = target.shape[0]\n",
        "        \n",
        "        outputs = torch.zeros(len_target,batch_size,len_vocab).to(device)\n",
        "        \n",
        "        hidden,cell = self.encoder(data)\n",
        "        start_token = target[0]\n",
        "        for i in range(1,len_target):\n",
        "            output, hidden,cell = self.decoder(start_token,hidden,cell)\n",
        "            outputs[i] = output\n",
        "            teacher_force = random.random() < teacher_forcing_ratio\n",
        "            max1 = output.argmax(1)\n",
        "            start_token = target[i] if teacher_force else max1\n",
        "        return outputs\n",
        "            "
      ],
      "execution_count": null,
      "outputs": []
    },
    {
      "cell_type": "code",
      "metadata": {
        "id": "uMvjBw_pf8XU"
      },
      "source": [
        "ger_len_vocab = len(ger_field.vocab)\n",
        "eng_len_vocab = len(eng_field.vocab)\n",
        "embedding_size = 300 \n",
        "hidden_size = 1024\n",
        "num_layer = 4\n",
        "dropout_encoder = 0.5\n",
        "dropout_decoder = 0.5\n",
        "num_epoch = 10\n",
        "encoder = Encoder(ger_len_vocab,embedding_size,hidden_size,num_layer,dropout_encoder).to(device)\n",
        "decoder = Decoder(eng_len_vocab,embedding_size,hidden_size,num_layer,eng_len_vocab,dropout_decoder).to(device)\n",
        "pad_indx = eng_field.vocab.stoi[\"<pad>\"]\n",
        "loss = nn.CrossEntropyLoss(ignore_index=pad_indx)\n",
        "model = Seq2seq(encoder,decoder).to(device)\n",
        "optimizer = torch.optim.Adam(model.parameters(),lr=0.001)\n"
      ],
      "execution_count": null,
      "outputs": []
    },
    {
      "cell_type": "code",
      "metadata": {
        "id": "UD1VzRTQf-GP"
      },
      "source": [
        "from torch.utils.tensorboard import SummaryWriter \n",
        "writer = SummaryWriter(f\"runs/loss_plot\")\n",
        "step = 0"
      ],
      "execution_count": null,
      "outputs": []
    },
    {
      "cell_type": "code",
      "metadata": {
        "colab": {
          "base_uri": "https://localhost:8080/"
        },
        "id": "cUiajabEgUXU",
        "outputId": "7be335c1-5c13-4ae8-fa38-cadfca568bf9"
      },
      "source": [
        "# train \n",
        "\n",
        "for epoch in range(num_epoch):\n",
        "  for batch in train_iter:\n",
        "    data = (batch.src).to(device)\n",
        "    target = (batch.trg).to(device)\n",
        "    outputs = model(data,target)\n",
        "    outputs = outputs[1:].view(-1,outputs.shape[2])\n",
        "    target = target[1:].reshape(-1)\n",
        "    optimizer.zero_grad()\n",
        "    los  = loss(outputs,target)\n",
        "    los.backward()\n",
        "    torch.nn.utils.clip_grad_norm_(model.parameters(), max_norm=1)\n",
        "    optimizer.step()\n",
        "    writer.add_scalar(\"Training loss\", los, global_step=step)\n",
        "    step+=1\n",
        "  print(f\"epoch:{epoch} and loss : {los.item()}\")"
      ],
      "execution_count": null,
      "outputs": [
        {
          "output_type": "stream",
          "name": "stdout",
          "text": [
            "epoch:0 and loss : 4.341251373291016\n",
            "epoch:1 and loss : 4.105330944061279\n",
            "epoch:2 and loss : 3.739529609680176\n",
            "epoch:3 and loss : 3.744792938232422\n",
            "epoch:4 and loss : 3.7222909927368164\n",
            "epoch:5 and loss : 3.268319845199585\n",
            "epoch:6 and loss : 3.215714454650879\n",
            "epoch:7 and loss : 3.1341071128845215\n",
            "epoch:8 and loss : 3.794325828552246\n",
            "epoch:9 and loss : 3.330305337905884\n"
          ]
        }
      ]
    },
    {
      "cell_type": "code",
      "metadata": {
        "colab": {
          "base_uri": "https://localhost:8080/"
        },
        "id": "jZRGrXAE8XWs",
        "outputId": "cd082d5c-0855-4b36-9e87-7fd9bf65f861"
      },
      "source": [
        "%cd /content/drive/MyDrive/Pytorch_model/ "
      ],
      "execution_count": null,
      "outputs": [
        {
          "output_type": "stream",
          "name": "stdout",
          "text": [
            "/content/drive/MyDrive/Pytorch_model\n"
          ]
        }
      ]
    },
    {
      "cell_type": "code",
      "metadata": {
        "id": "Kmy0rZjauffH"
      },
      "source": [
        "torch.save(model.state_dict(),\"seq2seq.pth\")"
      ],
      "execution_count": null,
      "outputs": []
    },
    {
      "cell_type": "code",
      "metadata": {
        "id": "dhTV-u3W967T"
      },
      "source": [
        "from torchtext.data.metrics import bleu_score"
      ],
      "execution_count": null,
      "outputs": []
    },
    {
      "cell_type": "code",
      "metadata": {
        "id": "Ph5d_Cce-Rdl"
      },
      "source": [
        "def translate_sentence(model, sentence, german, english, device, max_length=50):\n",
        "    # print(sentence)\n",
        "\n",
        "    # sys.exit()\n",
        "\n",
        "    # Load german tokenizer\n",
        "    spacy_ger = spacy.load(\"de_core_news_sm\")\n",
        "\n",
        "    # Create tokens using spacy and everything in lower case (which is what our vocab is)\n",
        "    if type(sentence) == str:\n",
        "        tokens = [token.text.lower() for token in spacy_ger(sentence)]\n",
        "    else:\n",
        "        tokens = [token.lower() for token in sentence]\n",
        "\n",
        "    # print(tokens)\n",
        "\n",
        "    # sys.exit()\n",
        "    # Add <SOS> and <EOS> in beginning and end respectively\n",
        "    tokens.insert(0, german.init_token)\n",
        "    tokens.append(german.eos_token)\n",
        "\n",
        "    # Go through each german token and convert to an index\n",
        "    text_to_indices = [german.vocab.stoi[token] for token in tokens]\n",
        "\n",
        "    # Convert to Tensor\n",
        "    sentence_tensor = torch.LongTensor(text_to_indices).unsqueeze(1).to(device)\n",
        "\n",
        "    # Build encoder hidden, cell state\n",
        "    with torch.no_grad():\n",
        "        hidden, cell = model.encoder(sentence_tensor)\n",
        "\n",
        "    outputs = [english.vocab.stoi[\"<sos>\"]]\n",
        "\n",
        "    for _ in range(max_length):\n",
        "        previous_word = torch.LongTensor([outputs[-1]]).to(device)\n",
        "\n",
        "        with torch.no_grad():\n",
        "            output, hidden, cell = model.decoder(previous_word, hidden, cell)\n",
        "            best_guess = output.argmax(1).item()\n",
        "\n",
        "        outputs.append(best_guess)\n",
        "\n",
        "        # Model predicts it's the end of the sentence\n",
        "        if output.argmax(1).item() == english.vocab.stoi[\"<eos>\"]:\n",
        "            break\n",
        "\n",
        "    translated_sentence = [english.vocab.itos[idx] for idx in outputs]\n",
        "\n",
        "    # remove start token\n",
        "    return translated_sentence[1:]"
      ],
      "execution_count": null,
      "outputs": []
    },
    {
      "cell_type": "code",
      "metadata": {
        "id": "QR6RoqiY8-4J"
      },
      "source": [
        "def bleu(data, model, german, english, device):\n",
        "    targets = []\n",
        "    outputs = []\n",
        "\n",
        "    for example in data:\n",
        "        src = vars(example)[\"src\"]\n",
        "        trg = vars(example)[\"trg\"]\n",
        "\n",
        "        prediction = translate_sentence(model, src, german, english, device)\n",
        "        prediction = prediction[:-1]  # remove <eos> token\n",
        "\n",
        "        targets.append([trg])\n",
        "        outputs.append(prediction)\n",
        "\n",
        "    return bleu_score(outputs, targets)"
      ],
      "execution_count": null,
      "outputs": []
    },
    {
      "cell_type": "code",
      "metadata": {
        "colab": {
          "base_uri": "https://localhost:8080/"
        },
        "id": "oID6KAmy93-j",
        "outputId": "4b43284d-440a-4c53-de64-967c8931e575"
      },
      "source": [
        "score = bleu(test[1:100], model, ger_field, eng_field, device)\n",
        "print(f\"Bleu score {score*100:.2f}\")"
      ],
      "execution_count": null,
      "outputs": [
        {
          "output_type": "stream",
          "name": "stdout",
          "text": [
            "Bleu score 8.54\n"
          ]
        }
      ]
    }
  ]
}